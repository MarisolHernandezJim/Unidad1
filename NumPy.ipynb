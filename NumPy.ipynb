{
  "nbformat": 4,
  "nbformat_minor": 0,
  "metadata": {
    "colab": {
      "provenance": [],
      "authorship_tag": "ABX9TyMIpSydmUtW2LCQpLZE6awX",
      "include_colab_link": true
    },
    "kernelspec": {
      "name": "python3",
      "display_name": "Python 3"
    },
    "language_info": {
      "name": "python"
    }
  },
  "cells": [
    {
      "cell_type": "markdown",
      "metadata": {
        "id": "view-in-github",
        "colab_type": "text"
      },
      "source": [
        "<a href=\"https://colab.research.google.com/github/MarisolHernandezJim/Unidad1/blob/main/NumPy.ipynb\" target=\"_parent\"><img src=\"https://colab.research.google.com/assets/colab-badge.svg\" alt=\"Open In Colab\"/></a>"
      ]
    },
    {
      "cell_type": "code",
      "execution_count": null,
      "metadata": {
        "id": "F7UqxMMViShk"
      },
      "outputs": [],
      "source": [
        ""
      ]
    },
    {
      "cell_type": "markdown",
      "source": [
        "NumPy es una libreria de Python.\n",
        "NumPy se utiliza para trabajar matrices o arreglos.\n",
        "NumPy es la abreviatura de \"puthon numerico\".\n",
        "Tambien tiene funciones para trabajar en el dominio del algebra lineal, la transformada y las matrices.\n",
        "En Python tenemos listas que sirven como matrices, pero son lentas de procesar.\n",
        "NumPy tiene como objetivo proporcionar un objetivo de matriz que sea 50 veces mas rapido que las listas tradicionales."
      ],
      "metadata": {
        "id": "ypjNtnnhjRjJ"
      }
    },
    {
      "cell_type": "code",
      "source": [
        "#tenemos que importas la libreria\n",
        "import numpy\n",
        "\n",
        "arreglo = numpy.array([1,2,3,4,5,])\n",
        "print(arreglo)"
      ],
      "metadata": {
        "colab": {
          "base_uri": "https://localhost:8080/"
        },
        "id": "uSJhL14-lH0x",
        "outputId": "22bae6d6-be33-4155-f0d5-8723bf68a8ef"
      },
      "execution_count": 1,
      "outputs": [
        {
          "output_type": "stream",
          "name": "stdout",
          "text": [
            "[1 2 3 4 5]\n"
          ]
        }
      ]
    },
    {
      "cell_type": "markdown",
      "source": [
        "NumPy cono np.\n",
        "Numpy generalmente se importa bajo el alias np.\n",
        "En Python los alias son un nombre alternativo para referirse a la misma cosa.\n"
      ],
      "metadata": {
        "id": "9-j77IR8mKo-"
      }
    },
    {
      "cell_type": "code",
      "source": [
        "import numpy as np\n",
        "arreglo = np.array([6,7,8,9,10])\n",
        "print(arreglo)"
      ],
      "metadata": {
        "colab": {
          "base_uri": "https://localhost:8080/"
        },
        "id": "Yg1iWW6zmj6s",
        "outputId": "271458af-5c9b-4442-daaf-ab9be69138d9"
      },
      "execution_count": 3,
      "outputs": [
        {
          "output_type": "stream",
          "name": "stdout",
          "text": [
            "[ 6  7  8  9 10]\n"
          ]
        }
      ]
    },
    {
      "cell_type": "markdown",
      "source": [
        "Comprobando la version de NumPy\n",
        "La cadena der la version se almacena en el atributo __version__"
      ],
      "metadata": {
        "id": "Vje3SERTnafU"
      }
    },
    {
      "cell_type": "code",
      "source": [
        "import numpy as np\n",
        "print(np.__version__)\n"
      ],
      "metadata": {
        "colab": {
          "base_uri": "https://localhost:8080/"
        },
        "id": "vWiZMkgon18v",
        "outputId": "dfd676a3-47a4-4233-c13e-7ee2740f8b4a"
      },
      "execution_count": 4,
      "outputs": [
        {
          "output_type": "stream",
          "name": "stdout",
          "text": [
            "2.0.2\n"
          ]
        }
      ]
    },
    {
      "cell_type": "markdown",
      "source": [
        "NumPy creando matrices crear un objeto ndarray de Numpy.\n",
        "NumPy se utiliza para trabajar con matrices.\n",
        "El objetivo de matriz se llama ndrray.\n",
        "Podemos crear un NumPy ndarray utilizando la funcion array()"
      ],
      "metadata": {
        "id": "5KlmI-r6oPAp"
      }
    },
    {
      "cell_type": "code",
      "source": [
        "import numpy as np\n",
        "arreglo = np.array([\"Raul\", \"Ana\",\"Kimberly\",\"Yazmin\"])\n",
        "print(arreglo)\n",
        "print(type(arreglo))"
      ],
      "metadata": {
        "colab": {
          "base_uri": "https://localhost:8080/"
        },
        "id": "61_b6ZtTpINX",
        "outputId": "3cb86d2e-c643-4068-c8bf-fb63809d5f54"
      },
      "execution_count": 7,
      "outputs": [
        {
          "output_type": "stream",
          "name": "stdout",
          "text": [
            "['Raul' 'Ana' 'Kimberly' 'Yazmin']\n",
            "<class 'numpy.ndarray'>\n"
          ]
        }
      ]
    },
    {
      "cell_type": "markdown",
      "source": [
        "Dimensiones en matrices.\n",
        "Una dimension en matrices es un nivel de profundidad de matriz (matrices anidadas).\n",
        "Una matriz anidada contienen matrices como elementos.\n",
        "Matrices 0-D. Son elementos de una matriz. Cada valor de una matriz es una matriz 0.D . Ejemplo: Crea una matriz 0-D con un valor de 42."
      ],
      "metadata": {
        "id": "orkuuVg0qHTK"
      }
    },
    {
      "cell_type": "code",
      "source": [
        "import numpy as np\n",
        "arreglo = np.array(42)\n",
        "print(arreglo)\n",
        "\n"
      ],
      "metadata": {
        "colab": {
          "base_uri": "https://localhost:8080/"
        },
        "id": "BCfQEvSRrFAz",
        "outputId": "d1078052-e998-47f3-b0bb-89aea88fa4e9"
      },
      "execution_count": 8,
      "outputs": [
        {
          "output_type": "stream",
          "name": "stdout",
          "text": [
            "42\n"
          ]
        }
      ]
    },
    {
      "cell_type": "markdown",
      "source": [
        "Matrices 1-D.\n",
        "Una matriz que tiene matrices 0-D como elementos se denomina matriz unidimensional o 1-D\n",
        "Estan son las matrices mas comunes y basicas.\n",
        "Ejemplo: Crea  una matriz de una dimension que tenga los valores 1,2,3,4,5"
      ],
      "metadata": {
        "id": "4L3_H8ISsZzp"
      }
    },
    {
      "cell_type": "code",
      "source": [
        "import numpy as np\n",
        "arreglo = np.array([1,2,3,4,5])\n",
        "print(arreglo)"
      ],
      "metadata": {
        "colab": {
          "base_uri": "https://localhost:8080/"
        },
        "id": "bR-WwCmNtMsa",
        "outputId": "57c370b0-85fd-47ff-8fa2-7daa6e250e39"
      },
      "execution_count": 9,
      "outputs": [
        {
          "output_type": "stream",
          "name": "stdout",
          "text": [
            "[1 2 3 4 5]\n"
          ]
        }
      ]
    },
    {
      "cell_type": "markdown",
      "source": [
        "Matrices 2D.\n",
        "Una matriz que tiene matrices de una dimension como elementos se denomina matrice 2D.\n",
        "A menudo se untilizan para representar matrices de segundo orden.\n",
        "NumPy tiene un submodulo completo dedicado a observaciones con matrices llamada numpy.mat\n",
        "Ejemplo: crea una matriz de 2D que contenga 2 matrices con los valores 123 y 456."
      ],
      "metadata": {
        "id": "mNwJx-MNtw1k"
      }
    },
    {
      "cell_type": "code",
      "source": [
        "import numpy as np\n",
        "arreglo = np.array([[1,2,3],[4,5,6]])\n",
        "print(arreglo)"
      ],
      "metadata": {
        "colab": {
          "base_uri": "https://localhost:8080/"
        },
        "id": "nDOY74A5uXx0",
        "outputId": "2cebdc6e-44b8-4eb8-d43f-3675b223a081"
      },
      "execution_count": 11,
      "outputs": [
        {
          "output_type": "stream",
          "name": "stdout",
          "text": [
            "[[1 2 3]\n",
            " [4 5 6]]\n"
          ]
        }
      ]
    },
    {
      "cell_type": "markdown",
      "source": [
        "matrices 3D\n",
        "Una matriz que tienes matrices 2D se denomina matriz 3D.\n",
        "estas matrices se utilizan para representar una matriz de tercer orden.\n",
        "Ejemplo: crea una matriz 3D con dos matrices bidimensionales, amabas conteniendo dos matrices con los valores 123 y 456."
      ],
      "metadata": {
        "id": "we16FdQDvacY"
      }
    },
    {
      "cell_type": "code",
      "source": [
        "import numpy as np\n",
        "arreglo = np.array([[[1,2,3],[4,5,6]],[[1,2,3],[4,5,6]]])\n",
        "print(arreglo)"
      ],
      "metadata": {
        "colab": {
          "base_uri": "https://localhost:8080/"
        },
        "id": "XXkY4QMEuv1_",
        "outputId": "7efedf9a-5ce9-493d-d42a-943b39b9642d"
      },
      "execution_count": 12,
      "outputs": [
        {
          "output_type": "stream",
          "name": "stdout",
          "text": [
            "[[[1 2 3]\n",
            "  [4 5 6]]\n",
            "\n",
            " [[1 2 3]\n",
            "  [4 5 6]]]\n"
          ]
        }
      ]
    }
  ]
}