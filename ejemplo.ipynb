{
  "nbformat": 4,
  "nbformat_minor": 0,
  "metadata": {
    "colab": {
      "provenance": [],
      "authorship_tag": "ABX9TyNEbK/URyrCfCB5glDi+HQt",
      "include_colab_link": true
    },
    "kernelspec": {
      "name": "python3",
      "display_name": "Python 3"
    },
    "language_info": {
      "name": "python"
    }
  },
  "cells": [
    {
      "cell_type": "markdown",
      "metadata": {
        "id": "view-in-github",
        "colab_type": "text"
      },
      "source": [
        "<a href=\"https://colab.research.google.com/github/MarisolHernandezJim/Unidad1/blob/main/ejemplo.ipynb\" target=\"_parent\"><img src=\"https://colab.research.google.com/assets/colab-badge.svg\" alt=\"Open In Colab\"/></a>"
      ]
    },
    {
      "cell_type": "code",
      "execution_count": null,
      "metadata": {
        "id": "Ie04yeuYwfO7"
      },
      "outputs": [],
      "source": []
    },
    {
      "cell_type": "markdown",
      "source": [
        "prueba de colab python"
      ],
      "metadata": {
        "id": "WrsXCrYtxfEP"
      }
    },
    {
      "cell_type": "code",
      "source": [
        "print(\"hola mundo\")"
      ],
      "metadata": {
        "colab": {
          "base_uri": "https://localhost:8080/"
        },
        "id": "hASMu3uzxxev",
        "outputId": "d4f03942-985f-455b-e6f4-d1f224defa58"
      },
      "execution_count": 1,
      "outputs": [
        {
          "output_type": "stream",
          "name": "stdout",
          "text": [
            "hola mundo\n"
          ]
        }
      ]
    },
    {
      "cell_type": "markdown",
      "source": [
        "variables"
      ],
      "metadata": {
        "id": "_mAx30HfyRVP"
      }
    },
    {
      "cell_type": "code",
      "source": [
        "#variables en python\n",
        "nombre = \"Sol\"\n",
        "paterno = \"Hernandez\"\n",
        "materno = \"Jimenez\"\n",
        "edad = 17\n",
        "estatura = 1.61\n",
        "print(nombre,paterno,materno,edad,estatura)"
      ],
      "metadata": {
        "colab": {
          "base_uri": "https://localhost:8080/"
        },
        "id": "BrIw6R5CyXqX",
        "outputId": "98a52138-0861-4d0a-c78c-57f04f5caa3c"
      },
      "execution_count": 3,
      "outputs": [
        {
          "output_type": "stream",
          "name": "stdout",
          "text": [
            "Sol Hernandez Jimenez 17 1.61\n"
          ]
        }
      ]
    },
    {
      "cell_type": "markdown",
      "source": [
        "solicitar 2 numeros al usiario y sumarlos\n"
      ],
      "metadata": {
        "id": "wEDllwz5zj0I"
      }
    },
    {
      "cell_type": "code",
      "source": [
        "numero1 = int(input(\"ingresa el primer numero\"))\n",
        "numero2 = int(input(\"ingresa el segundo numero\"))\n",
        "suma = numero1+numero2\n",
        "print(\"suma =\",suma)"
      ],
      "metadata": {
        "colab": {
          "base_uri": "https://localhost:8080/"
        },
        "id": "2QgBougkzyy_",
        "outputId": "40fc645f-041e-4521-c66c-e2e10eb8a183"
      },
      "execution_count": 4,
      "outputs": [
        {
          "output_type": "stream",
          "name": "stdout",
          "text": [
            "ingresa el primer numero15\n",
            "ingresa el segundo numero15\n",
            "suma = 30\n"
          ]
        }
      ]
    }
  ]
}