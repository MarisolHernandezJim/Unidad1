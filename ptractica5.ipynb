{
  "nbformat": 4,
  "nbformat_minor": 0,
  "metadata": {
    "colab": {
      "provenance": [],
      "authorship_tag": "ABX9TyM/4OVZXl8HRXZ2NeI22tH6",
      "include_colab_link": true
    },
    "kernelspec": {
      "name": "python3",
      "display_name": "Python 3"
    },
    "language_info": {
      "name": "python"
    }
  },
  "cells": [
    {
      "cell_type": "markdown",
      "metadata": {
        "id": "view-in-github",
        "colab_type": "text"
      },
      "source": [
        "<a href=\"https://colab.research.google.com/github/MarisolHernandezJim/Unidad1/blob/main/ptractica5.ipynb\" target=\"_parent\"><img src=\"https://colab.research.google.com/assets/colab-badge.svg\" alt=\"Open In Colab\"/></a>"
      ]
    },
    {
      "cell_type": "code",
      "execution_count": null,
      "metadata": {
        "id": "9OL1dhd0dOYw"
      },
      "outputs": [],
      "source": []
    },
    {
      "cell_type": "markdown",
      "source": [
        "cual es el resultado?"
      ],
      "metadata": {
        "id": "LtxlNlIXd9M0"
      }
    },
    {
      "cell_type": "code",
      "source": [
        "lista = [7, [50], 20, 30, 40, 50]\n",
        "\n",
        "print(lista[0])\n",
        "\n"
      ],
      "metadata": {
        "colab": {
          "base_uri": "https://localhost:8080/"
        },
        "id": "8980BOg1eD80",
        "outputId": "3c8b4828-8c50-43f5-cc5d-fcd4a96a8ba4"
      },
      "execution_count": 1,
      "outputs": [
        {
          "output_type": "stream",
          "name": "stdout",
          "text": [
            "7\n"
          ]
        }
      ]
    },
    {
      "cell_type": "markdown",
      "source": [
        "Imprime el primer elemento"
      ],
      "metadata": {
        "id": "2Y52qnKZe1MF"
      }
    },
    {
      "cell_type": "code",
      "source": [
        "import numpy as np\n",
        "array= np.array([1,2,3,4,5])\n",
        "print(array[0])"
      ],
      "metadata": {
        "colab": {
          "base_uri": "https://localhost:8080/"
        },
        "id": "rlykkL8wf6AN",
        "outputId": "de725301-4438-4711-e293-4350fcd558e4"
      },
      "execution_count": 6,
      "outputs": [
        {
          "output_type": "stream",
          "name": "stdout",
          "text": [
            "1\n"
          ]
        }
      ]
    },
    {
      "cell_type": "markdown",
      "source": [
        "Imprime el número 50"
      ],
      "metadata": {
        "id": "Zff3gyq6gCZF"
      }
    },
    {
      "cell_type": "code",
      "source": [
        "import numpy as np\n",
        "array= np.array([1|0,20,30,40,50])\n",
        "print(array[4])"
      ],
      "metadata": {
        "colab": {
          "base_uri": "https://localhost:8080/"
        },
        "outputId": "97e4dd6a-9264-4d13-ac66-aef749e4fac8",
        "id": "eUmAQIlIgRA8"
      },
      "execution_count": 8,
      "outputs": [
        {
          "output_type": "stream",
          "name": "stdout",
          "text": [
            "50\n"
          ]
        }
      ]
    },
    {
      "cell_type": "markdown",
      "source": [
        "Imprime el número 50\n"
      ],
      "metadata": {
        "id": "KQmzt7cdgq49"
      }
    },
    {
      "cell_type": "code",
      "source": [
        "import numpy as np\n",
        "array= np.array([[10,20,30,40],[50,60,70,80]])\n",
        "print(array[1][0])"
      ],
      "metadata": {
        "colab": {
          "base_uri": "https://localhost:8080/"
        },
        "id": "C0Ha01CagxeN",
        "outputId": "2368a558-3e70-4f43-f61e-2d12b05afc27"
      },
      "execution_count": 9,
      "outputs": [
        {
          "output_type": "stream",
          "name": "stdout",
          "text": [
            "50\n"
          ]
        }
      ]
    },
    {
      "cell_type": "markdown",
      "source": [
        "Imprime el último elemento con indexado negativo"
      ],
      "metadata": {
        "id": "xVQYMbINhBjF"
      }
    },
    {
      "cell_type": "code",
      "source": [
        "import numpy as np\n",
        "array= np.array([10,20,30,40,50])\n",
        "print(array[-1])"
      ],
      "metadata": {
        "colab": {
          "base_uri": "https://localhost:8080/"
        },
        "id": "ma5aMVhwhJsl",
        "outputId": "9fca7506-5f21-4a71-ec81-778e808b1d1d"
      },
      "execution_count": 10,
      "outputs": [
        {
          "output_type": "stream",
          "name": "stdout",
          "text": [
            "50\n"
          ]
        }
      ]
    }
  ]
}