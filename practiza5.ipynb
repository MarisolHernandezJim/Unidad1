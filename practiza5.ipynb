{
  "nbformat": 4,
  "nbformat_minor": 0,
  "metadata": {
    "colab": {
      "provenance": [],
      "authorship_tag": "ABX9TyN8wg8wNDKULw5X4xCLgLEw",
      "include_colab_link": true
    },
    "kernelspec": {
      "name": "python3",
      "display_name": "Python 3"
    },
    "language_info": {
      "name": "python"
    }
  },
  "cells": [
    {
      "cell_type": "markdown",
      "metadata": {
        "id": "view-in-github",
        "colab_type": "text"
      },
      "source": [
        "<a href=\"https://colab.research.google.com/github/MarisolHernandezJim/Unidad1/blob/main/practiza5.ipynb\" target=\"_parent\"><img src=\"https://colab.research.google.com/assets/colab-badge.svg\" alt=\"Open In Colab\"/></a>"
      ]
    },
    {
      "cell_type": "code",
      "execution_count": 14,
      "metadata": {
        "colab": {
          "base_uri": "https://localhost:8080/"
        },
        "id": "3X5isytp2Q0F",
        "outputId": "7ffe9cb1-7b24-4553-fb9f-e999e3ce4781"
      },
      "outputs": [
        {
          "output_type": "stream",
          "name": "stdout",
          "text": [
            "La media es: 39.375\n",
            "La mediana es: 39.5\n",
            "La moda es: 12\n"
          ]
        }
      ],
      "source": [
        "import numpy as np\n",
        "from scipy import stats\n",
        "\n",
        "valores = np.array([25, 45, 56, 12, 67, 34, 55, 21])\n",
        "media = np.mean(valores)\n",
        "mediana = np.median(valores)\n",
        "moda = stats.mode(valores)\n",
        "print(\"La media es:\", media)\n",
        "print(\"La mediana es:\", mediana)\n",
        "print(\"La moda es:\", moda.mode)"
      ]
    },
    {
      "cell_type": "code",
      "execution_count": 15,
      "metadata": {
        "colab": {
          "base_uri": "https://localhost:8080/"
        },
        "outputId": "a3b86d21-58e4-44d0-ef2f-5dd4e189d4b2",
        "id": "MB7oXgMS4Ihh"
      },
      "outputs": [
        {
          "output_type": "stream",
          "name": "stdout",
          "text": [
            "La media es: 27.142857142857142\n",
            "La mediana es: 20.0\n",
            "La moda es: 20\n"
          ]
        }
      ],
      "source": [
        "import numpy as npfrom scipy import stats\n",
        "\n",
        "valores = np.array([10, 20, 30, 40, 20, 50, 20])\n",
        "media = np.mean(valores)\n",
        "mediana = np.median(valores)\n",
        "moda = stats.mode(valores)\n",
        "print(\"La media es:\", media)\n",
        "print(\"La mediana es:\", mediana)\n",
        "print(\"La moda es:\", moda\n",
        ".mode)"
      ]
    },
    {
      "cell_type": "code",
      "source": [
        "import numpy as np\n",
        "from scipy import stats\n",
        "valores = np.array([10, 20, 30, 40, 50])\n",
        "media = np.mean(valores)\n",
        "mediana = np.median(valores)\n",
        "moda = stats.mode(valores)\n",
        "print(\"La media es:\", media)\n",
        "print(\"La mediana es:\", mediana)\n",
        "print(\"La moda es:\", moda.mode)"
      ],
      "metadata": {
        "colab": {
          "base_uri": "https://localhost:8080/"
        },
        "id": "4frxydgQ4XcQ",
        "outputId": "e8f6b886-175d-4604-fc99-f5c1c62a2f57"
      },
      "execution_count": 16,
      "outputs": [
        {
          "output_type": "stream",
          "name": "stdout",
          "text": [
            "La media es: 30.0\n",
            "La mediana es: 30.0\n",
            "La moda es: 10\n"
          ]
        }
      ]
    }
  ]
}