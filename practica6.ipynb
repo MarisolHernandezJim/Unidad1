{
  "nbformat": 4,
  "nbformat_minor": 0,
  "metadata": {
    "colab": {
      "provenance": [],
      "authorship_tag": "ABX9TyOAUXZGvYOXJIqFj6iMKvdJ",
      "include_colab_link": true
    },
    "kernelspec": {
      "name": "python3",
      "display_name": "Python 3"
    },
    "language_info": {
      "name": "python"
    }
  },
  "cells": [
    {
      "cell_type": "markdown",
      "metadata": {
        "id": "view-in-github",
        "colab_type": "text"
      },
      "source": [
        "<a href=\"https://colab.research.google.com/github/MarisolHernandezJim/Unidad1/blob/main/practica6.ipynb\" target=\"_parent\"><img src=\"https://colab.research.google.com/assets/colab-badge.svg\" alt=\"Open In Colab\"/></a>"
      ]
    },
    {
      "cell_type": "code",
      "execution_count": null,
      "metadata": {
        "id": "QZz5ESSgChfQ"
      },
      "outputs": [],
      "source": []
    },
    {
      "cell_type": "markdown",
      "source": [
        "  Marisol Hernandez-24/09/20205\n",
        "  Practica 6-Cortar arreglos NumPy\n",
        "\n",
        "-----------------------------------------------\n",
        "Slice en python significa tomar elementos de un indice determinado a otro determinado indice.\n",
        "pasamos slice en lugar del indice de esta manera:[start:end]\n",
        "sino pasamos el inicio se considera 0.\n",
        "Sino pasamos el final su longitud es considerada una matriz de una dimension\n",
        "\n",
        "\n",
        "---\n",
        "ejemplo:([1,2,3,4,5,6,7])\n",
        "\n",
        "cortar los elementos de indice 1 a indice 5\n",
        "\n",
        "\n"
      ],
      "metadata": {
        "id": "hT8IX3bTCjbW"
      }
    },
    {
      "cell_type": "code",
      "source": [
        "import numpy as np\n",
        "arr=np.array([1,2,3,4,5,6,7])\n",
        "print(arr[1:5])"
      ],
      "metadata": {
        "colab": {
          "base_uri": "https://localhost:8080/"
        },
        "id": "0q5ED67gKcqG",
        "outputId": "3ce6032f-04dc-4dcf-bb91-4ea587c9fd0d"
      },
      "execution_count": 1,
      "outputs": [
        {
          "output_type": "stream",
          "name": "stdout",
          "text": [
            "[2 3 4 5]\n"
          ]
        }
      ]
    },
    {
      "cell_type": "markdown",
      "source": [
        "ejemplo 2\n",
        "([1,2,3,4,5,6,7])\n",
        "cortar indice 4 hasta el final de la matriz"
      ],
      "metadata": {
        "id": "2-oIhHjeLTfA"
      }
    },
    {
      "cell_type": "code",
      "source": [
        "import numpy as np\n",
        "arr=np.array([1,2,3,4,5,6,7])\n",
        "print(arr[4:])"
      ],
      "metadata": {
        "colab": {
          "base_uri": "https://localhost:8080/"
        },
        "id": "EUK7tDk2LbmP",
        "outputId": "13f7f755-b883-4002-afbb-4d672cb662ef"
      },
      "execution_count": 2,
      "outputs": [
        {
          "output_type": "stream",
          "name": "stdout",
          "text": [
            "[5 6 7]\n"
          ]
        }
      ]
    },
    {
      "cell_type": "markdown",
      "source": [
        "ejemplo 3\n",
        "([1,2,3,4,5,6,7])\n",
        "cortar elementos desde el principio hasta el indice 5"
      ],
      "metadata": {
        "id": "ERzUAm1uMJ7a"
      }
    },
    {
      "cell_type": "code",
      "source": [
        "import numpy as np\n",
        "arr=np.array([1,2,3,4,5,6,7])\n",
        "print(arr[:5])"
      ],
      "metadata": {
        "colab": {
          "base_uri": "https://localhost:8080/"
        },
        "id": "JHcYQJptMSlh",
        "outputId": "47153f02-f2f0-40a8-b534-368e12547c1f"
      },
      "execution_count": 3,
      "outputs": [
        {
          "output_type": "stream",
          "name": "stdout",
          "text": [
            "[1 2 3 4 5]\n"
          ]
        }
      ]
    },
    {
      "cell_type": "markdown",
      "source": [
        "ejemplo 4\n",
        "([1,2,3,4,5,6,7])\n",
        "corte negativo utilizamos el operador - para hacer referencia a un indice desde el final cortar del indice 3 desde el final al 1"
      ],
      "metadata": {
        "id": "Zhp_64qSM3Vk"
      }
    },
    {
      "cell_type": "code",
      "source": [
        "import numpy as np\n",
        "arr=np.array([1,2,3,4,5,6,7])\n",
        "print(arr[-3:-1])\n"
      ],
      "metadata": {
        "colab": {
          "base_uri": "https://localhost:8080/"
        },
        "id": "lGXhgIUqNIIC",
        "outputId": "6582d0cb-4ea9-4029-d0f9-d12e0afd8538"
      },
      "execution_count": 4,
      "outputs": [
        {
          "output_type": "stream",
          "name": "stdout",
          "text": [
            "[5 6]\n"
          ]
        }
      ]
    }
  ]
}