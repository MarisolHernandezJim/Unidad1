{
  "nbformat": 4,
  "nbformat_minor": 0,
  "metadata": {
    "colab": {
      "provenance": [],
      "authorship_tag": "ABX9TyP4guEoT857rsbY3EmpRd4i",
      "include_colab_link": true
    },
    "kernelspec": {
      "name": "python3",
      "display_name": "Python 3"
    },
    "language_info": {
      "name": "python"
    }
  },
  "cells": [
    {
      "cell_type": "markdown",
      "metadata": {
        "id": "view-in-github",
        "colab_type": "text"
      },
      "source": [
        "<a href=\"https://colab.research.google.com/github/MarisolHernandezJim/Unidad1/blob/main/practica4.ipynb\" target=\"_parent\"><img src=\"https://colab.research.google.com/assets/colab-badge.svg\" alt=\"Open In Colab\"/></a>"
      ]
    },
    {
      "cell_type": "code",
      "execution_count": null,
      "metadata": {
        "id": "xN5HAFSrO8uB"
      },
      "outputs": [],
      "source": []
    },
    {
      "cell_type": "markdown",
      "source": [
        "Numpy: indexación de matrices\n",
        "Acceder a elemento de una matriz\n",
        "La indexación de matrices es lo mismo que acceder a un elemento de una matriz. Puede acceder a un elemento de una matriz haciendo referencia a su número de índice.\n",
        "\n",
        "Los índices en las matrices Numpy comienzan en cero, lo que significa que el primer elemento tiene índice 0, el tercero tiene un índice 2, etc."
      ],
      "metadata": {
        "id": "fb_oell2Pz4C"
      }
    },
    {
      "cell_type": "markdown",
      "source": [
        "Ejemplo Obtenga el primer elemento de la siguiente matriz:"
      ],
      "metadata": {
        "id": "_un3tJkYQF3K"
      }
    },
    {
      "cell_type": "code",
      "source": [
        "import numpy as np\n",
        "arreglo = np.array([1, 2, 3, 4, 5])\n",
        "print(arreglo[0])"
      ],
      "metadata": {
        "colab": {
          "base_uri": "https://localhost:8080/"
        },
        "id": "SYNMgH1RQPxC",
        "outputId": "fc503db9-98e3-45f3-8ae6-e5bf3aaab9eb"
      },
      "execution_count": 1,
      "outputs": [
        {
          "output_type": "stream",
          "name": "stdout",
          "text": [
            "1\n"
          ]
        }
      ]
    },
    {
      "cell_type": "markdown",
      "source": [
        "De la siguiente lista 6, 7, 8, 9, 10 obtenga el tercer y el 4 elemento:"
      ],
      "metadata": {
        "id": "pFqlXQnDQd3C"
      }
    },
    {
      "cell_type": "code",
      "source": [
        "import numpy as np\n",
        "arreglo = np.array([6, 7, 8, 9, 10])\n",
        "print(arreglo[2])\n",
        "print(arreglo[3])"
      ],
      "metadata": {
        "colab": {
          "base_uri": "https://localhost:8080/"
        },
        "id": "yx8cfNytQfBq",
        "outputId": "b879eefd-cb27-4deb-95d3-fbb74edf0a00"
      },
      "execution_count": 2,
      "outputs": [
        {
          "output_type": "stream",
          "name": "stdout",
          "text": [
            "8\n",
            "9\n"
          ]
        }
      ]
    },
    {
      "cell_type": "markdown",
      "source": [
        "Acceder a matrices dos D, para acceder a elementos de matrices dos D podemos utilizar números enteros separados por comas que representen el número de dimensión y el índice del elemento.\n",
        "\n",
        "Piensa en matrices 2D como una tabla con filas y columnas, donde la dimensión 1 representa la fila y el índice 2 representa la columna."
      ],
      "metadata": {
        "id": "0AaEpPlvQrXy"
      }
    },
    {
      "cell_type": "markdown",
      "source": [
        "Realiza una matriz 2D"
      ],
      "metadata": {
        "id": "TXItWw95Q6Ta"
      }
    },
    {
      "cell_type": "code",
      "source": [
        "import numpy as np\n",
        "arreglo = np.array([[1, 2, 3, 4, 5], [6, 7, 8, 9, 10]])"
      ],
      "metadata": {
        "id": "fRTZOHVVQ9Hb"
      },
      "execution_count": 4,
      "outputs": []
    },
    {
      "cell_type": "markdown",
      "source": [
        "De la matriz 2D accede al elemento en la fila 0 y segunda columna:"
      ],
      "metadata": {
        "id": "ndZspfRDRH4a"
      }
    },
    {
      "cell_type": "code",
      "source": [
        "import numpy as np\n",
        "arreglo = np.array([[1, 2, 3, 4, 5], [6, 7, 8, 9, 10]])\n",
        "print(arreglo[0,1])"
      ],
      "metadata": {
        "colab": {
          "base_uri": "https://localhost:8080/"
        },
        "id": "KKy3pG2XRM2q",
        "outputId": "ef0685e2-15d2-4db3-8eda-ead6963d4c6c"
      },
      "execution_count": 7,
      "outputs": [
        {
          "output_type": "stream",
          "name": "stdout",
          "text": [
            "2\n"
          ]
        }
      ]
    }
  ]
}