{
  "nbformat": 4,
  "nbformat_minor": 0,
  "metadata": {
    "colab": {
      "provenance": [],
      "authorship_tag": "ABX9TyPYlJUtdaF9X/lxwY2fg+PV",
      "include_colab_link": true
    },
    "kernelspec": {
      "name": "python3",
      "display_name": "Python 3"
    },
    "language_info": {
      "name": "python"
    }
  },
  "cells": [
    {
      "cell_type": "markdown",
      "metadata": {
        "id": "view-in-github",
        "colab_type": "text"
      },
      "source": [
        "<a href=\"https://colab.research.google.com/github/MarisolHernandezJim/Unidad1/blob/main/practica2.ipynb\" target=\"_parent\"><img src=\"https://colab.research.google.com/assets/colab-badge.svg\" alt=\"Open In Colab\"/></a>"
      ]
    },
    {
      "cell_type": "code",
      "execution_count": null,
      "metadata": {
        "id": "q-fya9OFqtR7"
      },
      "outputs": [],
      "source": []
    },
    {
      "cell_type": "markdown",
      "source": [
        "practica2-Numpy\n",
        "Marisol Hernandez 5-F\n",
        "fecha 09 de septiembre de 20205\n",
        "------------------\n",
        "como verificar el numero de dimensiones.\n",
        "Numpy proporciona el atributo ndim que devuelve un numero entero que nos dice cuantas dimensiones tiene una matriz.\n",
        "-------------------\n",
        "Compruebe de cuantas dimensiones son las siguientes marices.\n",
        "\n"
      ],
      "metadata": {
        "id": "DMrZ6YeTrSrL"
      }
    },
    {
      "cell_type": "code",
      "source": [
        "import numpy as np\n",
        "arregloA = np.array(42)\n",
        "arregloB = np.array([1,2,3,4,5])\n",
        "arregloC = np.array([[1,2,3],[4,5,6]])\n",
        "arregloD = np.array([[[1,2,3],[4,5,6]],[[1,2,3],[4,5,6]]])\n",
        "print(arregloA.ndim)\n",
        "print(arregloB.ndim)\n",
        "print(arregloC.ndim)\n",
        "print(arregloD.ndim)"
      ],
      "metadata": {
        "colab": {
          "base_uri": "https://localhost:8080/"
        },
        "id": "kcnGWKQfsQtT",
        "outputId": "a410867e-0d9d-4002-ed0b-957b0dc99f02"
      },
      "execution_count": null,
      "outputs": [
        {
          "output_type": "stream",
          "name": "stdout",
          "text": [
            "0\n",
            "1\n",
            "2\n",
            "3\n"
          ]
        }
      ]
    },
    {
      "cell_type": "markdown",
      "source": [
        "Matrices de dimensiones superiores.\n",
        "Una matriz puede tener cualquier numero de dimensiones. Cuando se crea la matriz puede definir el numero de dimesnsiones utilizando el argumento ndmin.\n",
        "Ejemplo: Crea una matriz de 5 dimensiones y verifica que tenga las 5 dimensiones.\n",
        "\n",
        "\n",
        "---\n",
        "\n",
        "\n"
      ],
      "metadata": {
        "id": "qg4AFq6lu5VC"
      }
    },
    {
      "cell_type": "code",
      "source": [
        "import numpy as np\n",
        "arreglo = np.array([1,2,3,4], ndmin=5)\n",
        "print(arreglo)\n",
        "print('numero de dimensiones :', arreglo.ndim)"
      ],
      "metadata": {
        "colab": {
          "base_uri": "https://localhost:8080/"
        },
        "id": "uOkMMeG0wFiq",
        "outputId": "6656d94d-3a97-4d0b-a0d2-52a6db64c61e"
      },
      "execution_count": 8,
      "outputs": [
        {
          "output_type": "stream",
          "name": "stdout",
          "text": [
            "[[[[[1 2 3 4]]]]]\n",
            "numero de dimensiones : 5\n"
          ]
        }
      ]
    },
    {
      "cell_type": "markdown",
      "source": [
        "considerando la siguiente matriz\n",
        "arreglo = np.array([[1,2,3],[4,5,6]])\n",
        "cuantas dimensiones tiene?\n",
        "respuesta = 2"
      ],
      "metadata": {
        "id": "F1eXt5gjyhRJ"
      }
    },
    {
      "cell_type": "markdown",
      "source": [
        "NumPy Indexacion de matrices\n",
        "La indexacion de matrices es lo mismo que acceder a un elemento de la matriz haciendo referencia a su numero de indice. Los indices en las matrices Numpy comienzan en 0 lo que significa que al primer elemento tiene el indice 0 y el segundo tiene el indice1, etc.\n",
        "Ejemplo: Obtenga el primer elemeto de la siguiente matriz\n",
        "\n",
        "----------------\n",
        "\n"
      ],
      "metadata": {
        "id": "aID_SKBczSRg"
      }
    },
    {
      "cell_type": "code",
      "source": [
        "import numpy as np\n",
        "arreglo = np.array([1,2,3,4])\n",
        "print(arreglo[0])"
      ],
      "metadata": {
        "id": "Uea5drEz1F9Y"
      },
      "execution_count": null,
      "outputs": []
    },
    {
      "cell_type": "markdown",
      "source": [],
      "metadata": {
        "id": "nBtpSdN91FGg"
      }
    }
  ]
}